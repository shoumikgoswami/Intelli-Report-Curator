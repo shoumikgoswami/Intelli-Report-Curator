{
 "cells": [
  {
   "cell_type": "code",
   "execution_count": 22,
   "metadata": {},
   "outputs": [],
   "source": [
    "data = pd.read_csv('sample data/Iris.csv')"
   ]
  },
  {
   "cell_type": "code",
   "execution_count": 7,
   "metadata": {},
   "outputs": [
    {
     "data": {
      "text/html": [
       "<div>\n",
       "<style scoped>\n",
       "    .dataframe tbody tr th:only-of-type {\n",
       "        vertical-align: middle;\n",
       "    }\n",
       "\n",
       "    .dataframe tbody tr th {\n",
       "        vertical-align: top;\n",
       "    }\n",
       "\n",
       "    .dataframe thead th {\n",
       "        text-align: right;\n",
       "    }\n",
       "</style>\n",
       "<table border=\"1\" class=\"dataframe\">\n",
       "  <thead>\n",
       "    <tr style=\"text-align: right;\">\n",
       "      <th></th>\n",
       "      <th>Id</th>\n",
       "      <th>SepalLengthCm</th>\n",
       "      <th>SepalWidthCm</th>\n",
       "      <th>PetalLengthCm</th>\n",
       "      <th>PetalWidthCm</th>\n",
       "      <th>Species</th>\n",
       "    </tr>\n",
       "  </thead>\n",
       "  <tbody>\n",
       "    <tr>\n",
       "      <th>0</th>\n",
       "      <td>1</td>\n",
       "      <td>5.1</td>\n",
       "      <td>3.5</td>\n",
       "      <td>1.4</td>\n",
       "      <td>0.2</td>\n",
       "      <td>Iris-setosa</td>\n",
       "    </tr>\n",
       "    <tr>\n",
       "      <th>1</th>\n",
       "      <td>2</td>\n",
       "      <td>4.9</td>\n",
       "      <td>3.0</td>\n",
       "      <td>1.4</td>\n",
       "      <td>0.2</td>\n",
       "      <td>Iris-setosa</td>\n",
       "    </tr>\n",
       "    <tr>\n",
       "      <th>2</th>\n",
       "      <td>3</td>\n",
       "      <td>4.7</td>\n",
       "      <td>3.2</td>\n",
       "      <td>1.3</td>\n",
       "      <td>0.2</td>\n",
       "      <td>Iris-setosa</td>\n",
       "    </tr>\n",
       "    <tr>\n",
       "      <th>3</th>\n",
       "      <td>4</td>\n",
       "      <td>4.6</td>\n",
       "      <td>3.1</td>\n",
       "      <td>1.5</td>\n",
       "      <td>0.2</td>\n",
       "      <td>Iris-setosa</td>\n",
       "    </tr>\n",
       "    <tr>\n",
       "      <th>4</th>\n",
       "      <td>5</td>\n",
       "      <td>5.0</td>\n",
       "      <td>3.6</td>\n",
       "      <td>1.4</td>\n",
       "      <td>0.2</td>\n",
       "      <td>Iris-setosa</td>\n",
       "    </tr>\n",
       "  </tbody>\n",
       "</table>\n",
       "</div>"
      ],
      "text/plain": [
       "   Id  SepalLengthCm  SepalWidthCm  PetalLengthCm  PetalWidthCm      Species\n",
       "0   1            5.1           3.5            1.4           0.2  Iris-setosa\n",
       "1   2            4.9           3.0            1.4           0.2  Iris-setosa\n",
       "2   3            4.7           3.2            1.3           0.2  Iris-setosa\n",
       "3   4            4.6           3.1            1.5           0.2  Iris-setosa\n",
       "4   5            5.0           3.6            1.4           0.2  Iris-setosa"
      ]
     },
     "execution_count": 7,
     "metadata": {},
     "output_type": "execute_result"
    }
   ],
   "source": [
    "data.head()"
   ]
  },
  {
   "cell_type": "code",
   "execution_count": 3,
   "metadata": {},
   "outputs": [],
   "source": [
    "import pyttsx3\n",
    "#from bot import get_mode\n",
    "\n",
    "engine = pyttsx3.init()\n",
    "voices = engine.getProperty('voices')\n",
    "engine.setProperty('voice', voices[1].id)\n",
    "volume = engine.getProperty('volume')\n",
    "engine.setProperty('volume', 10.0)\n",
    "rate = engine.getProperty('rate')\n",
    "engine.setProperty('rate', rate - 30)\n",
    "\n",
    "\n",
    "def gen_output(mode, text):\n",
    "\tif mode == 'TEXT':\n",
    "\t\tprint(text)\n",
    "\telif mode == 'VOICE':\n",
    "\t\tengine.say(text)\n",
    "\t\tprint(text)\n",
    "\t\tengine.runAndWait()"
   ]
  },
  {
   "cell_type": "code",
   "execution_count": 4,
   "metadata": {},
   "outputs": [
    {
     "name": "stdout",
     "output_type": "stream",
     "text": [
      "Hi\n"
     ]
    }
   ],
   "source": [
    "gen_output('TEXT', 'Hi')"
   ]
  },
  {
   "cell_type": "code",
   "execution_count": 5,
   "metadata": {},
   "outputs": [
    {
     "name": "stdout",
     "output_type": "stream",
     "text": [
      "Hi\n"
     ]
    }
   ],
   "source": [
    "gen_output('VOICE', 'Hi')"
   ]
  },
  {
   "cell_type": "code",
   "execution_count": 24,
   "metadata": {},
   "outputs": [],
   "source": [
    "from rasa_nlu.model import Interpreter\n",
    "from word2number import w2n"
   ]
  },
  {
   "cell_type": "code",
   "execution_count": 78,
   "metadata": {},
   "outputs": [
    {
     "name": "stdout",
     "output_type": "stream",
     "text": [
      "INFO:tensorflow:Restoring parameters from ./models/nlu/default/tensor\\intent_classifier_tensorflow_embedding.ckpt\n"
     ]
    }
   ],
   "source": [
    "interpreter = Interpreter.load(\"./models/nlu/default/tensor\")"
   ]
  },
  {
   "cell_type": "code",
   "execution_count": 79,
   "metadata": {},
   "outputs": [],
   "source": [
    "intent = interpreter.parse('can you plot a line graph')"
   ]
  },
  {
   "cell_type": "code",
   "execution_count": 80,
   "metadata": {},
   "outputs": [
    {
     "data": {
      "text/plain": [
       "{'intent': {'name': 'visualize', 'confidence': 0.9142727851867676},\n",
       " 'entities': [{'start': 15,\n",
       "   'end': 25,\n",
       "   'value': 'line plot',\n",
       "   'entity': 'plot_type',\n",
       "   'confidence': 0.5465747272519716,\n",
       "   'extractor': 'ner_crf',\n",
       "   'processors': ['ner_synonyms']}],\n",
       " 'intent_ranking': [{'name': 'visualize', 'confidence': 0.9142727851867676},\n",
       "  {'name': 'features', 'confidence': 0.21153828501701355},\n",
       "  {'name': 'upload_data', 'confidence': 0.08661969006061554},\n",
       "  {'name': 'describe_data', 'confidence': 0.03157317638397217},\n",
       "  {'name': 'clean_data', 'confidence': 0.0019378755241632462},\n",
       "  {'name': 'build_model', 'confidence': 0.0},\n",
       "  {'name': 'data_exploration', 'confidence': 0.0}],\n",
       " 'text': 'can you plot a line graph'}"
      ]
     },
     "execution_count": 80,
     "metadata": {},
     "output_type": "execute_result"
    }
   ],
   "source": [
    "intent"
   ]
  },
  {
   "cell_type": "code",
   "execution_count": 27,
   "metadata": {},
   "outputs": [
    {
     "name": "stdout",
     "output_type": "stream",
     "text": [
      "six\n",
      "number\n"
     ]
    }
   ],
   "source": [
    "print(text['entities'][1]['value'])\n",
    "print(text['entities'][1]['entity'])"
   ]
  },
  {
   "cell_type": "code",
   "execution_count": 28,
   "metadata": {},
   "outputs": [],
   "source": [
    "row = text['entities'][1]['value']"
   ]
  },
  {
   "cell_type": "code",
   "execution_count": 29,
   "metadata": {},
   "outputs": [
    {
     "data": {
      "text/plain": [
       "6"
      ]
     },
     "execution_count": 29,
     "metadata": {},
     "output_type": "execute_result"
    }
   ],
   "source": [
    "w2n.word_to_num(row)"
   ]
  },
  {
   "cell_type": "code",
   "execution_count": 118,
   "metadata": {},
   "outputs": [
    {
     "name": "stdout",
     "output_type": "stream",
     "text": [
      "INFO:tensorflow:Restoring parameters from ./models/nlu/default/tensor\\intent_classifier_tensorflow_embedding.ckpt\n"
     ]
    },
    {
     "data": {
      "text/plain": [
       "('error', 0)"
      ]
     },
     "execution_count": 118,
     "metadata": {},
     "output_type": "execute_result"
    }
   ],
   "source": [
    "get_intent('hello')"
   ]
  },
  {
   "cell_type": "code",
   "execution_count": 49,
   "metadata": {},
   "outputs": [
    {
     "data": {
      "text/plain": [
       "'data_exploration'"
      ]
     },
     "execution_count": 49,
     "metadata": {},
     "output_type": "execute_result"
    }
   ],
   "source": [
    "intent['intent']['name']"
   ]
  },
  {
   "cell_type": "code",
   "execution_count": 50,
   "metadata": {},
   "outputs": [
    {
     "data": {
      "text/plain": [
       "'head'"
      ]
     },
     "execution_count": 50,
     "metadata": {},
     "output_type": "execute_result"
    }
   ],
   "source": [
    "intent['entities'][0]['entity']"
   ]
  },
  {
   "cell_type": "code",
   "execution_count": 51,
   "metadata": {},
   "outputs": [
    {
     "data": {
      "text/plain": [
       "'top'"
      ]
     },
     "execution_count": 51,
     "metadata": {},
     "output_type": "execute_result"
    }
   ],
   "source": [
    "intent['entities'][0]['value']"
   ]
  },
  {
   "cell_type": "code",
   "execution_count": 52,
   "metadata": {},
   "outputs": [
    {
     "data": {
      "text/plain": [
       "'number'"
      ]
     },
     "execution_count": 52,
     "metadata": {},
     "output_type": "execute_result"
    }
   ],
   "source": [
    "intent['entities'][1]['entity']"
   ]
  },
  {
   "cell_type": "code",
   "execution_count": 53,
   "metadata": {},
   "outputs": [
    {
     "data": {
      "text/plain": [
       "'5'"
      ]
     },
     "execution_count": 53,
     "metadata": {},
     "output_type": "execute_result"
    }
   ],
   "source": [
    "intent['entities'][1]['value']"
   ]
  },
  {
   "cell_type": "code",
   "execution_count": 54,
   "metadata": {},
   "outputs": [
    {
     "data": {
      "text/plain": [
       "2"
      ]
     },
     "execution_count": 54,
     "metadata": {},
     "output_type": "execute_result"
    }
   ],
   "source": [
    "len(intent['entities'])"
   ]
  },
  {
   "cell_type": "code",
   "execution_count": 55,
   "metadata": {},
   "outputs": [
    {
     "name": "stdout",
     "output_type": "stream",
     "text": [
      "head\n",
      "top\n",
      "number\n",
      "5\n"
     ]
    }
   ],
   "source": [
    "if len(intent['entities'])>0:\n",
    "    for i in range(len(intent['entities'])):\n",
    "        print(intent['entities'][i]['entity'])\n",
    "        print(intent['entities'][i]['value'])"
   ]
  },
  {
   "cell_type": "code",
   "execution_count": 59,
   "metadata": {},
   "outputs": [
    {
     "data": {
      "text/plain": [
       "0.969823956489563"
      ]
     },
     "execution_count": 59,
     "metadata": {},
     "output_type": "execute_result"
    }
   ],
   "source": [
    "intent['intent']['confidence']"
   ]
  },
  {
   "cell_type": "code",
   "execution_count": 30,
   "metadata": {},
   "outputs": [],
   "source": [
    "import pdfkit\n",
    "import pandas as pd\n",
    "import base64\n",
    "import uuid\n",
    "import glob\n",
    "import os"
   ]
  },
  {
   "cell_type": "code",
   "execution_count": 38,
   "metadata": {},
   "outputs": [],
   "source": [
    "path_wkthmltopdf = r'C:\\Users\\Shoumik\\Desktop\\Jupyter\\voice bot\\Machine-learning-Voice-Assistant-master\\Machine-learning-Voice-Assistant- v0.5\\wkhtmltox\\bin\\wkhtmltopdf.exe'\n",
    "config = pdfkit.configuration(wkhtmltopdf=path_wkthmltopdf)"
   ]
  },
  {
   "cell_type": "code",
   "execution_count": 3,
   "metadata": {},
   "outputs": [],
   "source": [
    "options = {\n",
    "    'page-size': 'Letter',\n",
    "    'margin-top': '0.75in',\n",
    "    'margin-right': '0.75in',\n",
    "    'margin-bottom': '0.75in',\n",
    "    'margin-left': '0.75in',\n",
    "    'encoding': \"UTF-8\",\n",
    "    'custom-header' : [\n",
    "        ('Accept-Encoding', 'gzip')\n",
    "    ],\n",
    "    'cookie': [\n",
    "        ('cookie-name1', 'cookie-value1'),\n",
    "        ('cookie-name2', 'cookie-value2'),\n",
    "    ],\n",
    "    'no-outline': None\n",
    "}"
   ]
  },
  {
   "cell_type": "code",
   "execution_count": 4,
   "metadata": {},
   "outputs": [],
   "source": [
    "data = pd.read_csv('sample data/Iris.csv')"
   ]
  },
  {
   "cell_type": "code",
   "execution_count": 7,
   "metadata": {},
   "outputs": [],
   "source": [
    "with open('test.html', 'w') as fo:\n",
    "    fo.write(data.to_html())"
   ]
  },
  {
   "cell_type": "code",
   "execution_count": 19,
   "metadata": {},
   "outputs": [
    {
     "name": "stdout",
     "output_type": "stream",
     "text": [
      "Loading pages (1/6)\r\n",
      "[>                                                           ] 0%\r",
      "[======>                                                     ] 10%\r",
      "[==============================>                             ] 50%\r",
      "[============================================================] 100%\r",
      "Counting pages (2/6)                                               \r\n",
      "[============================================================] Object 1 of 1\r",
      "Resolving links (4/6)                                                       \r\n",
      "[============================================================] Object 1 of 1\r",
      "Loading headers and footers (5/6)                                           \r\n",
      "Printing pages (6/6)\r\n",
      "[>                                                           ] Preparing\r",
      "[===============>                                            ] Page 1 of 4\r",
      "[==============================>                             ] Page 2 of 4\r",
      "[=============================================>              ] Page 3 of 4\r",
      "[============================================================] Page 4 of 4\r",
      "Done                                                                      \r\n"
     ]
    },
    {
     "data": {
      "text/plain": [
       "True"
      ]
     },
     "execution_count": 19,
     "metadata": {},
     "output_type": "execute_result"
    }
   ],
   "source": [
    "pdfkit.from_file('test.html', 'test.pdf',configuration=config)"
   ]
  },
  {
   "cell_type": "code",
   "execution_count": 5,
   "metadata": {},
   "outputs": [],
   "source": [
    "a = tempfile.TemporaryFile()"
   ]
  },
  {
   "cell_type": "code",
   "execution_count": 23,
   "metadata": {},
   "outputs": [],
   "source": [
    "filename = uuid.uuid4().hex+'.html'"
   ]
  },
  {
   "cell_type": "code",
   "execution_count": 24,
   "metadata": {},
   "outputs": [
    {
     "data": {
      "text/plain": [
       "'587fbf2432b74c54a60d451947d2e7a9.html'"
      ]
     },
     "execution_count": 24,
     "metadata": {},
     "output_type": "execute_result"
    }
   ],
   "source": [
    "filename"
   ]
  },
  {
   "cell_type": "code",
   "execution_count": 92,
   "metadata": {},
   "outputs": [],
   "source": [
    "def write_to_html_file(df, title='', image =''):\n",
    "    '''\n",
    "    Write an entire dataframe to an HTML file with nice formatting.\n",
    "    '''\n",
    "\n",
    "    result = '''\n",
    "    <!doctype html>\n",
    "    <html lang=\"en\">\n",
    "       <head>\n",
    "          <meta charset=\"utf-8\">\n",
    "          <link rel=\"stylesheet\" href=\"./css/style.css\">\n",
    "       </head>\n",
    "       <body>\n",
    "          <div id=\"ijx4\">Report Created by : Intelli - Report Curator</div>\n",
    "          <div id=\"ivtw\">FundsNetwork</div>\n",
    "          <section class=\"bdg-sect\">\n",
    "             <h1 class=\"heading\">Data Report</h1>\n",
    "             <p class=\"paragraph\">Dear user, here is your personalized report</p>\n",
    "          </section>\n",
    "          <style>\n",
    "    \n",
    "        h2 {\n",
    "            text-align: center;\n",
    "            font-family: Helvetica, Arial, sans-serif;\n",
    "        }\n",
    "        table { \n",
    "            margin-left: auto;\n",
    "            margin-right: auto;\n",
    "        }\n",
    "        table, th, td {\n",
    "            border: 1px solid black;\n",
    "            border-collapse: collapse;\n",
    "        }\n",
    "        th, td {\n",
    "            padding: 5px;\n",
    "            text-align: center;\n",
    "            font-family: Helvetica, Arial, sans-serif;\n",
    "            font-size: 90%;\n",
    "        }\n",
    "        table tbody tr:hover {\n",
    "            background-color: #dddddd;\n",
    "        }\n",
    "        .wide {\n",
    "            width: 90%; \n",
    "        }\n",
    "\n",
    "            </style>\n",
    "        <br>\n",
    "        <style>\n",
    "        img {\n",
    "            display: block;\n",
    "            margin-left: auto;\n",
    "            margin-right: auto;\n",
    "            }\n",
    "        </style>\n",
    "       </body>\n",
    "       <html>\n",
    "    '''\n",
    "    result += '<h2> %s </h2>\\n' % title\n",
    "    result += df.to_html(classes='wide', escape=False)\n",
    "    result += '<br>'\n",
    "    result += image\n",
    "    result += '''\n",
    "    </body>\n",
    "    </html>\n",
    "    '''\n",
    "    save_path = './download/'\n",
    "    filename = uuid.uuid4().hex\n",
    "    filepath = os.path.join(save_path, filename+'.html')         \n",
    "    with open(filepath, 'w') as f:\n",
    "        f.write(result)"
   ]
  },
  {
   "cell_type": "code",
   "execution_count": 15,
   "metadata": {},
   "outputs": [],
   "source": [
    "data_uri = base64.b64encode(open('download.jpg', 'rb').read()).decode('utf-8').replace('\\n', '')"
   ]
  },
  {
   "cell_type": "code",
   "execution_count": 16,
   "metadata": {},
   "outputs": [],
   "source": [
    "img_tag = '<img src=\"data:image/png;base64,{0}\";>'.format(data_uri)"
   ]
  },
  {
   "cell_type": "code",
   "execution_count": 44,
   "metadata": {},
   "outputs": [],
   "source": [
    "write_to_html_file(data,'Table',img_tag)"
   ]
  },
  {
   "cell_type": "code",
   "execution_count": 33,
   "metadata": {},
   "outputs": [],
   "source": [
    "list_of_files = glob.glob('./download/*')\n",
    "latest_file = max(list_of_files, key=os.path.getctime)"
   ]
  },
  {
   "cell_type": "code",
   "execution_count": 34,
   "metadata": {},
   "outputs": [
    {
     "data": {
      "text/plain": [
       "'./download\\\\2cd7a8c6cb0644e793f50793ce10bd08.html'"
      ]
     },
     "execution_count": 34,
     "metadata": {},
     "output_type": "execute_result"
    }
   ],
   "source": [
    "latest_file"
   ]
  },
  {
   "cell_type": "code",
   "execution_count": 39,
   "metadata": {},
   "outputs": [
    {
     "name": "stdout",
     "output_type": "stream",
     "text": [
      "Loading pages (1/6)\r\n",
      "[>                                                           ] 0%\r",
      "[======>                                                     ] 10%\r",
      "[==================>                                         ] 31%\r",
      "Warning: Failed to load file:///C:/Users/Shoumik/Desktop/Jupyter/Curator engine/Machine-learning-Voice-Assistant- v0.5/download/css/style.css (ignore)\r\n",
      "[======================>                                     ] 37%\r",
      "[============================================================] 100%\r",
      "Counting pages (2/6)                                               \r\n",
      "[============================================================] Object 1 of 1\r",
      "Resolving links (4/6)                                                       \r\n",
      "[============================================================] Object 1 of 1\r",
      "Loading headers and footers (5/6)                                           \r\n",
      "Printing pages (6/6)\r\n",
      "[>                                                           ] Preparing\r",
      "[============>                                               ] Page 1 of 5\r",
      "[========================>                                   ] Page 2 of 5\r",
      "[====================================>                       ] Page 3 of 5\r",
      "[================================================>           ] Page 4 of 5\r",
      "[============================================================] Page 5 of 5\r",
      "Done                                                                      \r\n"
     ]
    }
   ],
   "source": [
    "try:\n",
    "    pdfkit.from_file(latest_file, './download/'+uuid.uuid4().hex+'.pdf',configuration=config, options = options)\n",
    "except:\n",
    "    pass"
   ]
  },
  {
   "cell_type": "code",
   "execution_count": 80,
   "metadata": {},
   "outputs": [],
   "source": [
    "import pdfkit\n",
    "import pandas as pd\n",
    "import base64\n",
    "import uuid\n",
    "import glob\n",
    "import os\n",
    "import matplotlib.pyplot as plt\n",
    "import seaborn as sns"
   ]
  },
  {
   "cell_type": "code",
   "execution_count": 86,
   "metadata": {},
   "outputs": [],
   "source": [
    "def gen_image_64(img):\n",
    "    data_uri = base64.b64encode(open('./temp/'+img+'.jpg', 'rb').read()).decode('utf-8').replace('\\n', '')\n",
    "    img_tag = '<img src=\"data:image/png;base64,{0}\";>'.format(data_uri)\n",
    "    return img_tag"
   ]
  },
  {
   "cell_type": "code",
   "execution_count": 57,
   "metadata": {},
   "outputs": [],
   "source": [
    "img_list = []\n",
    "df_list = []"
   ]
  },
  {
   "cell_type": "code",
   "execution_count": 91,
   "metadata": {},
   "outputs": [],
   "source": [
    "def write_to_html_file(df_list, image_list, title='Table'):\n",
    "    '''\n",
    "    Write an entire dataframe to an HTML file with nice formatting.\n",
    "    '''\n",
    "\n",
    "    result = '''\n",
    "    <!doctype html>\n",
    "    <html lang=\"en\">\n",
    "       <head>\n",
    "          <meta charset=\"utf-8\">\n",
    "          <link rel=\"stylesheet\" href=\"./css/style.css\">\n",
    "       </head>\n",
    "       <body>\n",
    "          <div id=\"ijx4\">Report Created by : Intelli - Report Curator</div>\n",
    "          <div id=\"ivtw\">FundsNetwork</div>\n",
    "          <section class=\"bdg-sect\">\n",
    "             <h1 class=\"heading\">Fee Report</h1>\n",
    "             <p class=\"paragraph\">Dear Adviser, here is your personalized fee report</p>\n",
    "          </section>\n",
    "          <style>\n",
    "    \n",
    "        h2 {\n",
    "            text-align: center;\n",
    "            font-family: Helvetica, Arial, sans-serif;\n",
    "        }\n",
    "        table { \n",
    "            margin-left: auto;\n",
    "            margin-right: auto;\n",
    "        }\n",
    "        table, th, td {\n",
    "            border: 1px solid black;\n",
    "            border-collapse: collapse;\n",
    "        }\n",
    "        th, td {\n",
    "            padding: 5px;\n",
    "            text-align: center;\n",
    "            font-family: Helvetica, Arial, sans-serif;\n",
    "            font-size: 90%;\n",
    "        }\n",
    "        table tbody tr:hover {\n",
    "            background-color: #dddddd;\n",
    "        }\n",
    "        .wide {\n",
    "            width: 90%; \n",
    "        }\n",
    "\n",
    "            </style>\n",
    "        <br>\n",
    "        <style>\n",
    "        img {\n",
    "            display: block;\n",
    "            margin-left: auto;\n",
    "            margin-right: auto;\n",
    "            }\n",
    "        </style>\n",
    "       </body>\n",
    "       <html>\n",
    "    '''\n",
    "    if len(df_list)>0:\n",
    "        for i in df_list:\n",
    "            result += '<h2> %s </h2>\\n' % title\n",
    "            result += i.to_html(classes='wide', escape=False)\n",
    "            result += '<br>'\n",
    "    result += '<br>'\n",
    "    if len(image_list)>0:\n",
    "        for i in image_list:\n",
    "            result += i\n",
    "            result += '<br>'\n",
    "    result += '''\n",
    "    </body>\n",
    "    </html>\n",
    "    '''\n",
    "    save_path = './download/'\n",
    "    filename = uuid.uuid4().hex\n",
    "    filepath = os.path.join(save_path, filename+'.html')         \n",
    "    with open(filepath, 'w') as f:\n",
    "        f.write(result)"
   ]
  },
  {
   "cell_type": "code",
   "execution_count": 65,
   "metadata": {},
   "outputs": [],
   "source": [
    "def gen_pdf(df_list, image_list):\n",
    "    write_to_html_file(df_list,image_list,'Table')\n",
    "    list_of_files = glob.glob('./download/*')\n",
    "    latest_file = max(list_of_files, key=os.path.getctime)\n",
    "    try:\n",
    "        pdfkit.from_file(latest_file, './download/'+uuid.uuid4().hex+'.pdf',configuration=config, options = options)\n",
    "    except:\n",
    "        pass"
   ]
  },
  {
   "cell_type": "code",
   "execution_count": 55,
   "metadata": {},
   "outputs": [],
   "source": [
    "df1 = pd.read_csv('./sample data/Iris.csv')"
   ]
  },
  {
   "cell_type": "code",
   "execution_count": 59,
   "metadata": {},
   "outputs": [],
   "source": [
    "df2 = pd.read_csv('./sample data/breastcancer.csv')"
   ]
  },
  {
   "cell_type": "code",
   "execution_count": 60,
   "metadata": {},
   "outputs": [],
   "source": [
    "df_list.append(df1)\n",
    "df_list.append(df2)"
   ]
  },
  {
   "cell_type": "code",
   "execution_count": 66,
   "metadata": {},
   "outputs": [
    {
     "name": "stdout",
     "output_type": "stream",
     "text": [
      "Loading pages (1/6)\r\n",
      "[>                                                           ] 0%\r",
      "[======>                                                     ] 10%\r",
      "[========================>                                   ] 41%\r",
      "Warning: Failed to load file:///C:/Users/Shoumik/Desktop/Jupyter/Curator engine/Machine-learning-Voice-Assistant- v0.5/download/css/style.css (ignore)\r\n",
      "[============================================================] 100%\r",
      "Counting pages (2/6)                                               \r\n",
      "[============================================================] Object 1 of 1\r",
      "Resolving links (4/6)                                                       \r\n",
      "[============================================================] Object 1 of 1\r",
      "Loading headers and footers (5/6)                                           \r\n",
      "Printing pages (6/6)\r\n",
      "[>                                                           ] Preparing\r",
      "[========>                                                   ] Page 1 of 7\r",
      "[================>                                           ] Page 2 of 7\r",
      "[=========================>                                  ] Page 3 of 7\r",
      "[==================================>                         ] Page 4 of 7\r",
      "[==========================================>                 ] Page 5 of 7\r",
      "[===================================================>        ] Page 6 of 7\r",
      "[============================================================] Page 7 of 7\r",
      "Done                                                                      \r\n"
     ]
    }
   ],
   "source": [
    "gen_pdf(df_list,'')"
   ]
  },
  {
   "cell_type": "code",
   "execution_count": 87,
   "metadata": {},
   "outputs": [
    {
     "name": "stderr",
     "output_type": "stream",
     "text": [
      "C:\\Users\\Shoumik\\Anaconda3\\lib\\site-packages\\seaborn\\axisgrid.py:2065: UserWarning: The `size` parameter has been renamed to `height`; pleaes update your code.\n",
      "  warnings.warn(msg, UserWarning)\n"
     ]
    },
    {
     "data": {
      "image/png": "[encoded data removed]",
      "text/plain": [
       "<Figure size 1003.5x900 with 30 Axes>"
      ]
     },
     "metadata": {
      "needs_background": "light"
     },
     "output_type": "display_data"
    }
   ],
   "source": [
    "sns_plot = sns.pairplot(df1, hue='Species', size=2.5)\n",
    "image_name = uuid.uuid4().hex\n",
    "sns_plot.savefig('./temp/'+image_name+'.jpg')\n",
    "img = gen_image_64(image_name)               "
   ]
  },
  {
   "cell_type": "code",
   "execution_count": 89,
   "metadata": {},
   "outputs": [],
   "source": [
    "img_list.append(img)"
   ]
  },
  {
   "cell_type": "code",
   "execution_count": 90,
   "metadata": {},
   "outputs": [
    {
     "name": "stdout",
     "output_type": "stream",
     "text": [
      "Loading pages (1/6)\r\n",
      "[>                                                           ] 0%\r",
      "[======>                                                     ] 10%\r",
      "[============================>                               ] 47%\r",
      "Warning: Failed to load file:///C:/Users/Shoumik/Desktop/Jupyter/Curator engine/Machine-learning-Voice-Assistant- v0.5/download/css/style.css (ignore)\r\n",
      "[==============================>                             ] 50%\r",
      "[============================================================] 100%\r",
      "Counting pages (2/6)                                               \r\n",
      "[============================================================] Object 1 of 1\r",
      "Resolving links (4/6)                                                       \r\n",
      "[============================================================] Object 1 of 1\r",
      "Loading headers and footers (5/6)                                           \r\n",
      "Printing pages (6/6)\r\n",
      "[>                                                           ] Preparing\r",
      "[========>                                                   ] Page 1 of 7\r",
      "[================>                                           ] Page 2 of 7\r",
      "[=========================>                                  ] Page 3 of 7\r",
      "[==================================>                         ] Page 4 of 7\r",
      "[==========================================>                 ] Page 5 of 7\r",
      "[===================================================>        ] Page 6 of 7\r",
      "[============================================================] Page 7 of 7\r",
      "Done                                                                      \r\n"
     ]
    }
   ],
   "source": [
    "gen_pdf(df_list,img_list)"
   ]
  },
  {
   "cell_type": "code",
   "execution_count": 104,
   "metadata": {},
   "outputs": [],
   "source": [
    "def barplot(x_data, y_data):\n",
    "\tx_label = x_data.name\n",
    "\ty_label = y_data.name\n",
    "\tfig, ax = plt.subplots()\n",
    "\t# Draw bars, position them in the center of the tick mark on the x-axis\n",
    "\tax.bar(x_data, y_data, color = '#539caf', align = 'center')\n",
    "\t# Draw error bars to show standard deviation, set ls to 'none'\n",
    "\t# to remove line between points\n",
    "\t#ax.errorbar(x_data, y_data, yerr = error_data, color = '#297083', ls = 'none', lw = 2, capthick = 2)\n",
    "\tax.set_ylabel(y_label)\n",
    "\tax.set_xlabel(x_label)\n",
    "\tax.set_title('Bar plot')\n",
    "\tplt.show()\n",
    "\treturn fig"
   ]
  },
  {
   "cell_type": "code",
   "execution_count": 105,
   "metadata": {},
   "outputs": [
    {
     "data": {
      "image/png": "[encoded data removed]",
      "text/plain": [
       "<Figure size 432x288 with 1 Axes>"
      ]
     },
     "metadata": {
      "needs_background": "light"
     },
     "output_type": "display_data"
    }
   ],
   "source": [
    "plot = barplot(df1['Species'],df1['SepalLengthCm'])"
   ]
  },
  {
   "cell_type": "code",
   "execution_count": 106,
   "metadata": {},
   "outputs": [],
   "source": [
    "image_name = uuid.uuid4().hex\n",
    "plot.savefig('./temp/'+image_name+'.jpg')\n",
    "img = gen_image_64(image_name)   "
   ]
  },
  {
   "cell_type": "code",
   "execution_count": 107,
   "metadata": {},
   "outputs": [
    {
     "data": {
      "text/plain": [
       "'<img src=\"data:image/png;base64,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\";>'"
      ]
     },
     "execution_count": 107,
     "metadata": {},
     "output_type": "execute_result"
    }
   ],
   "source": [
    "img"
   ]
  },
  {
   "cell_type": "code",
   "execution_count": 125,
   "metadata": {},
   "outputs": [],
   "source": [
    "def gen_image_64(plot):\n",
    "\timage_name = uuid.uuid4().hex\n",
    "\tplot.savefig('./temp/'+image_name+'.jpg')\n",
    "\tdata_uri = base64.b64encode(open('./temp/'+image_name+'.jpg', 'rb').read()).decode('utf-8').replace('\\n', '')\n",
    "\timg_tag = '<img src=\"data:image/png;base64,{0}\";>'.format(data_uri)\n",
    "\treturn img_tag"
   ]
  },
  {
   "cell_type": "code",
   "execution_count": 128,
   "metadata": {},
   "outputs": [],
   "source": [
    "def cmd_add_to_pdf(data,plot):\n",
    "\tif (len(data)!=0) & (plot!=''):\n",
    "\t\tdf_list.append(data)\n",
    "\t\timg = gen_image_64(plot)\n",
    "\t\timg_list.append(img)\n",
    "\t\tprint('Done!')\n",
    "\telif (len(data)!=0) & (plot==''):\n",
    "\t\tdf_list.append(data)\n",
    "\t\tprint('Done!')\n",
    "\telif (len(data)==0) & (plot!=''):\n",
    "\t\timg = gen_image_64(plot)\n",
    "\t\timg_list.append(img)\n",
    "\t\tprint('Done!')"
   ]
  },
  {
   "cell_type": "code",
   "execution_count": 129,
   "metadata": {},
   "outputs": [
    {
     "name": "stdout",
     "output_type": "stream",
     "text": [
      "Done!\n"
     ]
    }
   ],
   "source": [
    "cmd_add_to_pdf('',plot)"
   ]
  },
  {
   "cell_type": "code",
   "execution_count": 118,
   "metadata": {},
   "outputs": [
    {
     "ename": "TypeError",
     "evalue": "int() argument must be a string, a bytes-like object or a number, not 'Figure'",
     "output_type": "error",
     "traceback": [
      "\u001b[1;31m---------------------------------------------------------------------------\u001b[0m",
      "\u001b[1;31mTypeError\u001b[0m                                 Traceback (most recent call last)",
      "\u001b[1;32m<ipython-input-118-2c784c5420bc>\u001b[0m in \u001b[0;36m<module>\u001b[1;34m\u001b[0m\n\u001b[1;32m----> 1\u001b[1;33m \u001b[0mint\u001b[0m\u001b[1;33m(\u001b[0m\u001b[0mplot\u001b[0m\u001b[1;33m)\u001b[0m\u001b[1;33m\u001b[0m\u001b[1;33m\u001b[0m\u001b[0m\n\u001b[0m",
      "\u001b[1;31mTypeError\u001b[0m: int() argument must be a string, a bytes-like object or a number, not 'Figure'"
     ]
    }
   ],
   "source": [
    "int(plot)"
   ]
  },
  {
   "cell_type": "code",
   "execution_count": 132,
   "metadata": {},
   "outputs": [],
   "source": [
    "from rasa_nlu.model import Interpreter\n",
    "def get_intent(text):\n",
    "\tcommand_type = ''\n",
    "\tmodel_type = 0\n",
    "\tplot_type = 0\n",
    "\texplore_type = ''\n",
    "\trow_num = 0\n",
    "\n",
    "\tinterpreter = Interpreter.load(\"./models/nlu/default/tensor\")\n",
    "\tintent = interpreter.parse(text)\n",
    "\t\n",
    "\tif intent['intent']['confidence']>0.60:\n",
    "\t\tcommand_type = intent['intent']['name']\n",
    "\t\tif len(intent['entities']) == 0:\n",
    "\t\t\tmodel_type = 0\n",
    "\t\t\tplot_type = 0\n",
    "\t\telif len(intent['entities']) == 1:\n",
    "\t\t\tif intent['entities'][0]['entity']=='plot_type':\n",
    "\t\t\t\tplot_type = intent['entities'][0]['value']\n",
    "\t\t\t\tmodel_type = 0\n",
    "\t\t\telif intent['entities'][0]['entity']=='model_name':\n",
    "\t\t\t\tmodel_type = intent['entities'][0]['value']\n",
    "\t\t\t\tplot_type = 0\n",
    "\t\t\telse:\n",
    "\t\t\t\texplore_type = intent['entities'][0]['entity']\n",
    "\t\t\t\tmodel_type = 0\n",
    "\t\t\t\tplot_type = 0\n",
    "\t\t\t\tcommand_type = ''\n",
    "\t\telif len(intent['entities']) == 2:\n",
    "\t\t\texplore_type = intent['entities'][0]['entity']\n",
    "\t\t\trow_num = w2n.word_to_num(intent['entities'][1]['value'])\n",
    "\t\t\tmodel_type = 0\n",
    "\t\t\tplot_type = 0\n",
    "\t\t\tcommand_type = ''\n",
    "\telse:\n",
    "\t\tcommand_type = 'error'\n",
    "\n",
    "\tif command_type == 'upload_data':\n",
    "\t\tcmd = '1U'\n",
    "\telif command_type == 'describe_data':\n",
    "\t\tcmd = '2D'\n",
    "\telif command_type == 'clean_data':\n",
    "\t\tcmd = '3C'\n",
    "\telif command_type == 'features':\n",
    "\t\tcmd = '4F'\n",
    "\telif command_type == 'visualize':\n",
    "\t\tcmd = '5V'\n",
    "\telif command_type == 'build_model':\n",
    "\t\tcmd = '6B'\n",
    "\telif command_type == 'data_exploration':\n",
    "\t\tcmd = '7E'\n",
    "\telif command_type == 'add_pdf':\n",
    "\t\tcmd = '8PA'\n",
    "\telif command_type == 'create_pdf':\n",
    "\t\tcmd = '9PC'\n",
    "\telif (model_type != 0) & (command_type != 'error'):\n",
    "\t\tcmd = 'model'\n",
    "\telif (plot_type != 0) & (command_type != 'error'):\n",
    "\t\tcmd = 'plot'    \n",
    "\telif command_type == 'error':\n",
    "\t\tcmd = 'error'    \n",
    "\telse:\n",
    "\t\tcmd = 'error'  \n",
    "\tif model_type == 'logistic regression':\n",
    "\t\tmodel_type = 'LR'\n",
    "\telif model_type == 'kneighbors':\n",
    "\t\tmodel_type = 'KNN'\n",
    "\telif model_type == 'decision tree':\n",
    "\t\tmodel_type = 'CART'\n",
    "\telif model_type == 'gaussian nb':\n",
    "\t\tmodel_type = 'NB'\n",
    "\telif model_type == 'support vector':\n",
    "\t\tmodel_type = 'SVC'\n",
    "\telse:\n",
    "\t\tmodel_type = 0\n",
    "\t\t\n",
    "\tif len(command_type)>0:\n",
    "\t\tif (plot_type == 0):\n",
    "\t\t\treturn cmd, model_type\n",
    "\t\telif (model_type == 0) & (plot_type != 0):\n",
    "\t\t\treturn cmd, plot_type\n",
    "\telif (len(explore_type)>0) & (len(command_type)==0):\n",
    "\t\treturn explore_type, row_num"
   ]
  },
  {
   "cell_type": "code",
   "execution_count": 135,
   "metadata": {},
   "outputs": [
    {
     "name": "stdout",
     "output_type": "stream",
     "text": [
      "INFO:tensorflow:Restoring parameters from ./models/nlu/default/tensor\\intent_classifier_tensorflow_embedding.ckpt\n"
     ]
    },
    {
     "data": {
      "text/plain": [
       "('sales_type', 0)"
      ]
     },
     "execution_count": 135,
     "metadata": {},
     "output_type": "execute_result"
    }
   ],
   "source": [
    "get_intent('who sold the most by units')"
   ]
  },
  {
   "cell_type": "code",
   "execution_count": 136,
   "metadata": {},
   "outputs": [],
   "source": [
    "data = pd.read_csv('./sample data/OfficeSupplies.csv')"
   ]
  },
  {
   "cell_type": "code",
   "execution_count": 142,
   "metadata": {},
   "outputs": [
    {
     "data": {
      "text/html": [
       "<div>\n",
       "<style scoped>\n",
       "    .dataframe tbody tr th:only-of-type {\n",
       "        vertical-align: middle;\n",
       "    }\n",
       "\n",
       "    .dataframe tbody tr th {\n",
       "        vertical-align: top;\n",
       "    }\n",
       "\n",
       "    .dataframe thead th {\n",
       "        text-align: right;\n",
       "    }\n",
       "</style>\n",
       "<table border=\"1\" class=\"dataframe\">\n",
       "  <thead>\n",
       "    <tr style=\"text-align: right;\">\n",
       "      <th></th>\n",
       "      <th>OrderDate</th>\n",
       "      <th>Region</th>\n",
       "      <th>Rep</th>\n",
       "      <th>Item</th>\n",
       "      <th>Units</th>\n",
       "      <th>Unit Price</th>\n",
       "      <th>Total Price</th>\n",
       "    </tr>\n",
       "  </thead>\n",
       "  <tbody>\n",
       "    <tr>\n",
       "      <th>0</th>\n",
       "      <td>04-jul-14</td>\n",
       "      <td>east</td>\n",
       "      <td>richard</td>\n",
       "      <td>pen set</td>\n",
       "      <td>62</td>\n",
       "      <td>4.99</td>\n",
       "      <td>309.38</td>\n",
       "    </tr>\n",
       "    <tr>\n",
       "      <th>1</th>\n",
       "      <td>12-jul-14</td>\n",
       "      <td>east</td>\n",
       "      <td>nick</td>\n",
       "      <td>binder</td>\n",
       "      <td>29</td>\n",
       "      <td>1.99</td>\n",
       "      <td>57.71</td>\n",
       "    </tr>\n",
       "    <tr>\n",
       "      <th>2</th>\n",
       "      <td>21-jul-14</td>\n",
       "      <td>central</td>\n",
       "      <td>morgan</td>\n",
       "      <td>pen set</td>\n",
       "      <td>55</td>\n",
       "      <td>12.49</td>\n",
       "      <td>686.95</td>\n",
       "    </tr>\n",
       "    <tr>\n",
       "      <th>3</th>\n",
       "      <td>29-jul-14</td>\n",
       "      <td>east</td>\n",
       "      <td>susan</td>\n",
       "      <td>binder</td>\n",
       "      <td>81</td>\n",
       "      <td>19.99</td>\n",
       "      <td>1619.19</td>\n",
       "    </tr>\n",
       "    <tr>\n",
       "      <th>4</th>\n",
       "      <td>07-aug-14</td>\n",
       "      <td>central</td>\n",
       "      <td>matthew</td>\n",
       "      <td>pen set</td>\n",
       "      <td>42</td>\n",
       "      <td>23.95</td>\n",
       "      <td>1005.9</td>\n",
       "    </tr>\n",
       "    <tr>\n",
       "      <th>5</th>\n",
       "      <td>15-aug-14</td>\n",
       "      <td>east</td>\n",
       "      <td>richard</td>\n",
       "      <td>pencil</td>\n",
       "      <td>35</td>\n",
       "      <td>4.99</td>\n",
       "      <td>174.65</td>\n",
       "    </tr>\n",
       "    <tr>\n",
       "      <th>6</th>\n",
       "      <td>24-aug-14</td>\n",
       "      <td>west</td>\n",
       "      <td>james</td>\n",
       "      <td>desk</td>\n",
       "      <td>3</td>\n",
       "      <td>275.0</td>\n",
       "      <td>825.0</td>\n",
       "    </tr>\n",
       "    <tr>\n",
       "      <th>7</th>\n",
       "      <td>01-sep-14</td>\n",
       "      <td>central</td>\n",
       "      <td>smith</td>\n",
       "      <td>desk</td>\n",
       "      <td>2</td>\n",
       "      <td>125.0</td>\n",
       "      <td>250.0</td>\n",
       "    </tr>\n",
       "    <tr>\n",
       "      <th>8</th>\n",
       "      <td>10-sep-14</td>\n",
       "      <td>central</td>\n",
       "      <td>bill</td>\n",
       "      <td>pencil</td>\n",
       "      <td>7</td>\n",
       "      <td>1.29</td>\n",
       "      <td>9.03</td>\n",
       "    </tr>\n",
       "    <tr>\n",
       "      <th>9</th>\n",
       "      <td>18-sep-14</td>\n",
       "      <td>east</td>\n",
       "      <td>richard</td>\n",
       "      <td>pen set</td>\n",
       "      <td>16</td>\n",
       "      <td>15.99</td>\n",
       "      <td>255.84</td>\n",
       "    </tr>\n",
       "    <tr>\n",
       "      <th>10</th>\n",
       "      <td>27-sep-14</td>\n",
       "      <td>west</td>\n",
       "      <td>james</td>\n",
       "      <td>pen</td>\n",
       "      <td>76</td>\n",
       "      <td>1.99</td>\n",
       "      <td>151.24</td>\n",
       "    </tr>\n",
       "    <tr>\n",
       "      <th>11</th>\n",
       "      <td>05-oct-14</td>\n",
       "      <td>central</td>\n",
       "      <td>morgan</td>\n",
       "      <td>binder</td>\n",
       "      <td>28</td>\n",
       "      <td>8.99</td>\n",
       "      <td>251.72</td>\n",
       "    </tr>\n",
       "    <tr>\n",
       "      <th>12</th>\n",
       "      <td>14-oct-14</td>\n",
       "      <td>west</td>\n",
       "      <td>thomas</td>\n",
       "      <td>binder</td>\n",
       "      <td>57</td>\n",
       "      <td>19.99</td>\n",
       "      <td>1139.43</td>\n",
       "    </tr>\n",
       "    <tr>\n",
       "      <th>13</th>\n",
       "      <td>22-oct-14</td>\n",
       "      <td>east</td>\n",
       "      <td>richard</td>\n",
       "      <td>pen</td>\n",
       "      <td>64</td>\n",
       "      <td>8.99</td>\n",
       "      <td>575.36</td>\n",
       "    </tr>\n",
       "    <tr>\n",
       "      <th>14</th>\n",
       "      <td>31-oct-14</td>\n",
       "      <td>central</td>\n",
       "      <td>rachel</td>\n",
       "      <td>pencil</td>\n",
       "      <td>14</td>\n",
       "      <td>1.29</td>\n",
       "      <td>18.06</td>\n",
       "    </tr>\n",
       "    <tr>\n",
       "      <th>15</th>\n",
       "      <td>08-nov-14</td>\n",
       "      <td>east</td>\n",
       "      <td>susan</td>\n",
       "      <td>pen</td>\n",
       "      <td>15</td>\n",
       "      <td>19.99</td>\n",
       "      <td>299.85</td>\n",
       "    </tr>\n",
       "    <tr>\n",
       "      <th>16</th>\n",
       "      <td>17-nov-14</td>\n",
       "      <td>central</td>\n",
       "      <td>alex</td>\n",
       "      <td>binder</td>\n",
       "      <td>11</td>\n",
       "      <td>4.99</td>\n",
       "      <td>54.89</td>\n",
       "    </tr>\n",
       "    <tr>\n",
       "      <th>17</th>\n",
       "      <td>25-nov-14</td>\n",
       "      <td>central</td>\n",
       "      <td>matthew</td>\n",
       "      <td>pen set</td>\n",
       "      <td>96</td>\n",
       "      <td>4.99</td>\n",
       "      <td>479.04</td>\n",
       "    </tr>\n",
       "    <tr>\n",
       "      <th>18</th>\n",
       "      <td>04-dec-14</td>\n",
       "      <td>central</td>\n",
       "      <td>alex</td>\n",
       "      <td>binder</td>\n",
       "      <td>94</td>\n",
       "      <td>19.99</td>\n",
       "      <td>1879.06</td>\n",
       "    </tr>\n",
       "    <tr>\n",
       "      <th>19</th>\n",
       "      <td>12-dec-14</td>\n",
       "      <td>central</td>\n",
       "      <td>smith</td>\n",
       "      <td>pencil</td>\n",
       "      <td>67</td>\n",
       "      <td>1.29</td>\n",
       "      <td>86.43</td>\n",
       "    </tr>\n",
       "    <tr>\n",
       "      <th>20</th>\n",
       "      <td>21-dec-14</td>\n",
       "      <td>central</td>\n",
       "      <td>rachel</td>\n",
       "      <td>binder</td>\n",
       "      <td>28</td>\n",
       "      <td>4.99</td>\n",
       "      <td>139.72</td>\n",
       "    </tr>\n",
       "    <tr>\n",
       "      <th>21</th>\n",
       "      <td>29-dec-14</td>\n",
       "      <td>east</td>\n",
       "      <td>susan</td>\n",
       "      <td>pen set</td>\n",
       "      <td>74</td>\n",
       "      <td>15.99</td>\n",
       "      <td>1183.26</td>\n",
       "    </tr>\n",
       "    <tr>\n",
       "      <th>22</th>\n",
       "      <td>06-jan-15</td>\n",
       "      <td>east</td>\n",
       "      <td>richard</td>\n",
       "      <td>pencil</td>\n",
       "      <td>95</td>\n",
       "      <td>1.99</td>\n",
       "      <td>189.05</td>\n",
       "    </tr>\n",
       "    <tr>\n",
       "      <th>23</th>\n",
       "      <td>15-jan-15</td>\n",
       "      <td>central</td>\n",
       "      <td>bill</td>\n",
       "      <td>binder</td>\n",
       "      <td>46</td>\n",
       "      <td>8.99</td>\n",
       "      <td>413.54</td>\n",
       "    </tr>\n",
       "    <tr>\n",
       "      <th>24</th>\n",
       "      <td>23-jan-15</td>\n",
       "      <td>central</td>\n",
       "      <td>matthew</td>\n",
       "      <td>binder</td>\n",
       "      <td>50</td>\n",
       "      <td>19.99</td>\n",
       "      <td>999.5</td>\n",
       "    </tr>\n",
       "    <tr>\n",
       "      <th>25</th>\n",
       "      <td>01-feb-15</td>\n",
       "      <td>central</td>\n",
       "      <td>smith</td>\n",
       "      <td>binder</td>\n",
       "      <td>87</td>\n",
       "      <td>15.0</td>\n",
       "      <td>1305.0</td>\n",
       "    </tr>\n",
       "    <tr>\n",
       "      <th>26</th>\n",
       "      <td>09-feb-15</td>\n",
       "      <td>central</td>\n",
       "      <td>alex</td>\n",
       "      <td>pencil</td>\n",
       "      <td>36</td>\n",
       "      <td>4.99</td>\n",
       "      <td>179.64</td>\n",
       "    </tr>\n",
       "    <tr>\n",
       "      <th>27</th>\n",
       "      <td>18-feb-15</td>\n",
       "      <td>east</td>\n",
       "      <td>richard</td>\n",
       "      <td>binder</td>\n",
       "      <td>4</td>\n",
       "      <td>4.99</td>\n",
       "      <td>19.96</td>\n",
       "    </tr>\n",
       "    <tr>\n",
       "      <th>28</th>\n",
       "      <td>26-feb-15</td>\n",
       "      <td>central</td>\n",
       "      <td>bill</td>\n",
       "      <td>pen</td>\n",
       "      <td>27</td>\n",
       "      <td>19.99</td>\n",
       "      <td>539.73</td>\n",
       "    </tr>\n",
       "    <tr>\n",
       "      <th>29</th>\n",
       "      <td>07-mar-15</td>\n",
       "      <td>west</td>\n",
       "      <td>james</td>\n",
       "      <td>binder</td>\n",
       "      <td>7</td>\n",
       "      <td>19.99</td>\n",
       "      <td>139.93</td>\n",
       "    </tr>\n",
       "    <tr>\n",
       "      <th>30</th>\n",
       "      <td>15-mar-15</td>\n",
       "      <td>west</td>\n",
       "      <td>james</td>\n",
       "      <td>pencil</td>\n",
       "      <td>56</td>\n",
       "      <td>2.99</td>\n",
       "      <td>167.44</td>\n",
       "    </tr>\n",
       "    <tr>\n",
       "      <th>31</th>\n",
       "      <td>24-mar-15</td>\n",
       "      <td>central</td>\n",
       "      <td>alex</td>\n",
       "      <td>pen set</td>\n",
       "      <td>50</td>\n",
       "      <td>4.99</td>\n",
       "      <td>249.5</td>\n",
       "    </tr>\n",
       "    <tr>\n",
       "      <th>32</th>\n",
       "      <td>01-apr-15</td>\n",
       "      <td>east</td>\n",
       "      <td>richard</td>\n",
       "      <td>binder</td>\n",
       "      <td>60</td>\n",
       "      <td>4.99</td>\n",
       "      <td>299.4</td>\n",
       "    </tr>\n",
       "    <tr>\n",
       "      <th>33</th>\n",
       "      <td>10-apr-15</td>\n",
       "      <td>central</td>\n",
       "      <td>rachel</td>\n",
       "      <td>pencil</td>\n",
       "      <td>66</td>\n",
       "      <td>1.99</td>\n",
       "      <td>131.34</td>\n",
       "    </tr>\n",
       "    <tr>\n",
       "      <th>34</th>\n",
       "      <td>18-apr-15</td>\n",
       "      <td>central</td>\n",
       "      <td>rachel</td>\n",
       "      <td>pencil</td>\n",
       "      <td>75</td>\n",
       "      <td>1.99</td>\n",
       "      <td>149.25</td>\n",
       "    </tr>\n",
       "    <tr>\n",
       "      <th>35</th>\n",
       "      <td>27-apr-15</td>\n",
       "      <td>east</td>\n",
       "      <td>nick</td>\n",
       "      <td>pen</td>\n",
       "      <td>96</td>\n",
       "      <td>4.99</td>\n",
       "      <td>479.04</td>\n",
       "    </tr>\n",
       "    <tr>\n",
       "      <th>36</th>\n",
       "      <td>05-may-15</td>\n",
       "      <td>central</td>\n",
       "      <td>alex</td>\n",
       "      <td>pencil</td>\n",
       "      <td>90</td>\n",
       "      <td>4.99</td>\n",
       "      <td>449.1</td>\n",
       "    </tr>\n",
       "    <tr>\n",
       "      <th>37</th>\n",
       "      <td>14-may-15</td>\n",
       "      <td>central</td>\n",
       "      <td>bill</td>\n",
       "      <td>pencil</td>\n",
       "      <td>53</td>\n",
       "      <td>1.29</td>\n",
       "      <td>68.37</td>\n",
       "    </tr>\n",
       "    <tr>\n",
       "      <th>38</th>\n",
       "      <td>22-may-15</td>\n",
       "      <td>west</td>\n",
       "      <td>thomas</td>\n",
       "      <td>pencil</td>\n",
       "      <td>32</td>\n",
       "      <td>1.99</td>\n",
       "      <td>63.68</td>\n",
       "    </tr>\n",
       "    <tr>\n",
       "      <th>39</th>\n",
       "      <td>31-may-15</td>\n",
       "      <td>central</td>\n",
       "      <td>bill</td>\n",
       "      <td>binder</td>\n",
       "      <td>80</td>\n",
       "      <td>8.99</td>\n",
       "      <td>719.2</td>\n",
       "    </tr>\n",
       "    <tr>\n",
       "      <th>40</th>\n",
       "      <td>08-jun-15</td>\n",
       "      <td>east</td>\n",
       "      <td>richard</td>\n",
       "      <td>binder</td>\n",
       "      <td>60</td>\n",
       "      <td>8.99</td>\n",
       "      <td>539.4</td>\n",
       "    </tr>\n",
       "    <tr>\n",
       "      <th>41</th>\n",
       "      <td>17-jun-15</td>\n",
       "      <td>central</td>\n",
       "      <td>matthew</td>\n",
       "      <td>desk</td>\n",
       "      <td>5</td>\n",
       "      <td>125.0</td>\n",
       "      <td>625.0</td>\n",
       "    </tr>\n",
       "    <tr>\n",
       "      <th>42</th>\n",
       "      <td>25-jun-15</td>\n",
       "      <td>central</td>\n",
       "      <td>morgan</td>\n",
       "      <td>pencil</td>\n",
       "      <td>90</td>\n",
       "      <td>4.99</td>\n",
       "      <td>449.1</td>\n",
       "    </tr>\n",
       "  </tbody>\n",
       "</table>\n",
       "</div>"
      ],
      "text/plain": [
       "    OrderDate   Region      Rep     Item Units Unit Price Total Price\n",
       "0   04-jul-14     east  richard  pen set    62       4.99      309.38\n",
       "1   12-jul-14     east     nick   binder    29       1.99       57.71\n",
       "2   21-jul-14  central   morgan  pen set    55      12.49      686.95\n",
       "3   29-jul-14     east    susan   binder    81      19.99     1619.19\n",
       "4   07-aug-14  central  matthew  pen set    42      23.95      1005.9\n",
       "5   15-aug-14     east  richard   pencil    35       4.99      174.65\n",
       "6   24-aug-14     west    james     desk     3      275.0       825.0\n",
       "7   01-sep-14  central    smith     desk     2      125.0       250.0\n",
       "8   10-sep-14  central     bill   pencil     7       1.29        9.03\n",
       "9   18-sep-14     east  richard  pen set    16      15.99      255.84\n",
       "10  27-sep-14     west    james      pen    76       1.99      151.24\n",
       "11  05-oct-14  central   morgan   binder    28       8.99      251.72\n",
       "12  14-oct-14     west   thomas   binder    57      19.99     1139.43\n",
       "13  22-oct-14     east  richard      pen    64       8.99      575.36\n",
       "14  31-oct-14  central   rachel   pencil    14       1.29       18.06\n",
       "15  08-nov-14     east    susan      pen    15      19.99      299.85\n",
       "16  17-nov-14  central     alex   binder    11       4.99       54.89\n",
       "17  25-nov-14  central  matthew  pen set    96       4.99      479.04\n",
       "18  04-dec-14  central     alex   binder    94      19.99     1879.06\n",
       "19  12-dec-14  central    smith   pencil    67       1.29       86.43\n",
       "20  21-dec-14  central   rachel   binder    28       4.99      139.72\n",
       "21  29-dec-14     east    susan  pen set    74      15.99     1183.26\n",
       "22  06-jan-15     east  richard   pencil    95       1.99      189.05\n",
       "23  15-jan-15  central     bill   binder    46       8.99      413.54\n",
       "24  23-jan-15  central  matthew   binder    50      19.99       999.5\n",
       "25  01-feb-15  central    smith   binder    87       15.0      1305.0\n",
       "26  09-feb-15  central     alex   pencil    36       4.99      179.64\n",
       "27  18-feb-15     east  richard   binder     4       4.99       19.96\n",
       "28  26-feb-15  central     bill      pen    27      19.99      539.73\n",
       "29  07-mar-15     west    james   binder     7      19.99      139.93\n",
       "30  15-mar-15     west    james   pencil    56       2.99      167.44\n",
       "31  24-mar-15  central     alex  pen set    50       4.99       249.5\n",
       "32  01-apr-15     east  richard   binder    60       4.99       299.4\n",
       "33  10-apr-15  central   rachel   pencil    66       1.99      131.34\n",
       "34  18-apr-15  central   rachel   pencil    75       1.99      149.25\n",
       "35  27-apr-15     east     nick      pen    96       4.99      479.04\n",
       "36  05-may-15  central     alex   pencil    90       4.99       449.1\n",
       "37  14-may-15  central     bill   pencil    53       1.29       68.37\n",
       "38  22-may-15     west   thomas   pencil    32       1.99       63.68\n",
       "39  31-may-15  central     bill   binder    80       8.99       719.2\n",
       "40  08-jun-15     east  richard   binder    60       8.99       539.4\n",
       "41  17-jun-15  central  matthew     desk     5      125.0       625.0\n",
       "42  25-jun-15  central   morgan   pencil    90       4.99       449.1"
      ]
     },
     "execution_count": 142,
     "metadata": {},
     "output_type": "execute_result"
    }
   ],
   "source": [
    "data.apply(lambda x: x.astype(str).str.lower())"
   ]
  },
  {
   "cell_type": "code",
   "execution_count": 143,
   "metadata": {},
   "outputs": [
    {
     "data": {
      "text/plain": [
       "<bound method Series.unique of 0     Richard\n",
       "1        Nick\n",
       "2      Morgan\n",
       "3       Susan\n",
       "4     Matthew\n",
       "5     Richard\n",
       "6       James\n",
       "7       Smith\n",
       "8        Bill\n",
       "9     Richard\n",
       "10      James\n",
       "11     Morgan\n",
       "12     Thomas\n",
       "13    Richard\n",
       "14     Rachel\n",
       "15      Susan\n",
       "16       Alex\n",
       "17    Matthew\n",
       "18       Alex\n",
       "19      Smith\n",
       "20     Rachel\n",
       "21      Susan\n",
       "22    Richard\n",
       "23       Bill\n",
       "24    Matthew\n",
       "25      Smith\n",
       "26       Alex\n",
       "27    Richard\n",
       "28       Bill\n",
       "29      James\n",
       "30      James\n",
       "31       Alex\n",
       "32    Richard\n",
       "33     Rachel\n",
       "34     Rachel\n",
       "35       Nick\n",
       "36       Alex\n",
       "37       Bill\n",
       "38     Thomas\n",
       "39       Bill\n",
       "40    Richard\n",
       "41    Matthew\n",
       "42     Morgan\n",
       "Name: Rep, dtype: object>"
      ]
     },
     "execution_count": 143,
     "metadata": {},
     "output_type": "execute_result"
    }
   ],
   "source": [
    "data['Rep'].unique"
   ]
  },
  {
   "cell_type": "code",
   "execution_count": 144,
   "metadata": {},
   "outputs": [
    {
     "data": {
      "text/html": [
       "<div>\n",
       "<style scoped>\n",
       "    .dataframe tbody tr th:only-of-type {\n",
       "        vertical-align: middle;\n",
       "    }\n",
       "\n",
       "    .dataframe tbody tr th {\n",
       "        vertical-align: top;\n",
       "    }\n",
       "\n",
       "    .dataframe thead th {\n",
       "        text-align: right;\n",
       "    }\n",
       "</style>\n",
       "<table border=\"1\" class=\"dataframe\">\n",
       "  <thead>\n",
       "    <tr style=\"text-align: right;\">\n",
       "      <th></th>\n",
       "      <th>OrderDate</th>\n",
       "      <th>Region</th>\n",
       "      <th>Rep</th>\n",
       "      <th>Item</th>\n",
       "      <th>Units</th>\n",
       "      <th>Unit Price</th>\n",
       "      <th>Total Price</th>\n",
       "    </tr>\n",
       "  </thead>\n",
       "  <tbody>\n",
       "    <tr>\n",
       "      <th>16</th>\n",
       "      <td>17-Nov-14</td>\n",
       "      <td>Central</td>\n",
       "      <td>Alex</td>\n",
       "      <td>Binder</td>\n",
       "      <td>11</td>\n",
       "      <td>4.99</td>\n",
       "      <td>54.89</td>\n",
       "    </tr>\n",
       "    <tr>\n",
       "      <th>18</th>\n",
       "      <td>04-Dec-14</td>\n",
       "      <td>Central</td>\n",
       "      <td>Alex</td>\n",
       "      <td>Binder</td>\n",
       "      <td>94</td>\n",
       "      <td>19.99</td>\n",
       "      <td>1879.06</td>\n",
       "    </tr>\n",
       "    <tr>\n",
       "      <th>26</th>\n",
       "      <td>09-Feb-15</td>\n",
       "      <td>Central</td>\n",
       "      <td>Alex</td>\n",
       "      <td>Pencil</td>\n",
       "      <td>36</td>\n",
       "      <td>4.99</td>\n",
       "      <td>179.64</td>\n",
       "    </tr>\n",
       "    <tr>\n",
       "      <th>31</th>\n",
       "      <td>24-Mar-15</td>\n",
       "      <td>Central</td>\n",
       "      <td>Alex</td>\n",
       "      <td>Pen Set</td>\n",
       "      <td>50</td>\n",
       "      <td>4.99</td>\n",
       "      <td>249.50</td>\n",
       "    </tr>\n",
       "    <tr>\n",
       "      <th>36</th>\n",
       "      <td>05-May-15</td>\n",
       "      <td>Central</td>\n",
       "      <td>Alex</td>\n",
       "      <td>Pencil</td>\n",
       "      <td>90</td>\n",
       "      <td>4.99</td>\n",
       "      <td>449.10</td>\n",
       "    </tr>\n",
       "  </tbody>\n",
       "</table>\n",
       "</div>"
      ],
      "text/plain": [
       "    OrderDate   Region   Rep     Item  Units  Unit Price  Total Price\n",
       "16  17-Nov-14  Central  Alex   Binder     11        4.99        54.89\n",
       "18  04-Dec-14  Central  Alex   Binder     94       19.99      1879.06\n",
       "26  09-Feb-15  Central  Alex   Pencil     36        4.99       179.64\n",
       "31  24-Mar-15  Central  Alex  Pen Set     50        4.99       249.50\n",
       "36  05-May-15  Central  Alex   Pencil     90        4.99       449.10"
      ]
     },
     "execution_count": 144,
     "metadata": {},
     "output_type": "execute_result"
    }
   ],
   "source": [
    "data[data['Rep']=='Alex']"
   ]
  },
  {
   "cell_type": "code",
   "execution_count": 148,
   "metadata": {},
   "outputs": [
    {
     "data": {
      "text/html": [
       "<div>\n",
       "<style scoped>\n",
       "    .dataframe tbody tr th:only-of-type {\n",
       "        vertical-align: middle;\n",
       "    }\n",
       "\n",
       "    .dataframe tbody tr th {\n",
       "        vertical-align: top;\n",
       "    }\n",
       "\n",
       "    .dataframe thead th {\n",
       "        text-align: right;\n",
       "    }\n",
       "</style>\n",
       "<table border=\"1\" class=\"dataframe\">\n",
       "  <thead>\n",
       "    <tr style=\"text-align: right;\">\n",
       "      <th></th>\n",
       "      <th>Region</th>\n",
       "      <th>Units</th>\n",
       "      <th>Unit Price</th>\n",
       "      <th>Total Price</th>\n",
       "    </tr>\n",
       "  </thead>\n",
       "  <tbody>\n",
       "    <tr>\n",
       "      <th>0</th>\n",
       "      <td>Central</td>\n",
       "      <td>1199</td>\n",
       "      <td>432.45</td>\n",
       "      <td>11139.07</td>\n",
       "    </tr>\n",
       "    <tr>\n",
       "      <th>1</th>\n",
       "      <td>East</td>\n",
       "      <td>691</td>\n",
       "      <td>118.87</td>\n",
       "      <td>6002.09</td>\n",
       "    </tr>\n",
       "    <tr>\n",
       "      <th>2</th>\n",
       "      <td>West</td>\n",
       "      <td>231</td>\n",
       "      <td>321.95</td>\n",
       "      <td>2486.72</td>\n",
       "    </tr>\n",
       "  </tbody>\n",
       "</table>\n",
       "</div>"
      ],
      "text/plain": [
       "    Region  Units  Unit Price  Total Price\n",
       "0  Central   1199      432.45     11139.07\n",
       "1     East    691      118.87      6002.09\n",
       "2     West    231      321.95      2486.72"
      ]
     },
     "execution_count": 148,
     "metadata": {},
     "output_type": "execute_result"
    }
   ],
   "source": [
    "data.groupby(['Region']).sum().sort_values('Total Price', ascending=False).reset_index()"
   ]
  },
  {
   "cell_type": "code",
   "execution_count": 149,
   "metadata": {},
   "outputs": [
    {
     "name": "stdout",
     "output_type": "stream",
     "text": [
      "<class 'pandas.core.frame.DataFrame'>\n",
      "RangeIndex: 43 entries, 0 to 42\n",
      "Data columns (total 7 columns):\n",
      "OrderDate      43 non-null object\n",
      "Region         43 non-null object\n",
      "Rep            43 non-null object\n",
      "Item           43 non-null object\n",
      "Units          43 non-null int64\n",
      "Unit Price     43 non-null float64\n",
      "Total Price    43 non-null float64\n",
      "dtypes: float64(2), int64(1), object(4)\n",
      "memory usage: 2.4+ KB\n"
     ]
    }
   ],
   "source": [
    "data.info()"
   ]
  },
  {
   "cell_type": "code",
   "execution_count": 152,
   "metadata": {},
   "outputs": [],
   "source": [
    "data['Rep'] = data['Rep'].str.lower()"
   ]
  },
  {
   "cell_type": "code",
   "execution_count": 153,
   "metadata": {},
   "outputs": [
    {
     "data": {
      "text/html": [
       "<div>\n",
       "<style scoped>\n",
       "    .dataframe tbody tr th:only-of-type {\n",
       "        vertical-align: middle;\n",
       "    }\n",
       "\n",
       "    .dataframe tbody tr th {\n",
       "        vertical-align: top;\n",
       "    }\n",
       "\n",
       "    .dataframe thead th {\n",
       "        text-align: right;\n",
       "    }\n",
       "</style>\n",
       "<table border=\"1\" class=\"dataframe\">\n",
       "  <thead>\n",
       "    <tr style=\"text-align: right;\">\n",
       "      <th></th>\n",
       "      <th>OrderDate</th>\n",
       "      <th>Region</th>\n",
       "      <th>Rep</th>\n",
       "      <th>Item</th>\n",
       "      <th>Units</th>\n",
       "      <th>Unit Price</th>\n",
       "      <th>Total Price</th>\n",
       "    </tr>\n",
       "  </thead>\n",
       "  <tbody>\n",
       "    <tr>\n",
       "      <th>0</th>\n",
       "      <td>04-Jul-14</td>\n",
       "      <td>East</td>\n",
       "      <td>richard</td>\n",
       "      <td>Pen Set</td>\n",
       "      <td>62</td>\n",
       "      <td>4.99</td>\n",
       "      <td>309.38</td>\n",
       "    </tr>\n",
       "    <tr>\n",
       "      <th>1</th>\n",
       "      <td>12-Jul-14</td>\n",
       "      <td>East</td>\n",
       "      <td>nick</td>\n",
       "      <td>Binder</td>\n",
       "      <td>29</td>\n",
       "      <td>1.99</td>\n",
       "      <td>57.71</td>\n",
       "    </tr>\n",
       "    <tr>\n",
       "      <th>2</th>\n",
       "      <td>21-Jul-14</td>\n",
       "      <td>Central</td>\n",
       "      <td>morgan</td>\n",
       "      <td>Pen Set</td>\n",
       "      <td>55</td>\n",
       "      <td>12.49</td>\n",
       "      <td>686.95</td>\n",
       "    </tr>\n",
       "    <tr>\n",
       "      <th>3</th>\n",
       "      <td>29-Jul-14</td>\n",
       "      <td>East</td>\n",
       "      <td>susan</td>\n",
       "      <td>Binder</td>\n",
       "      <td>81</td>\n",
       "      <td>19.99</td>\n",
       "      <td>1619.19</td>\n",
       "    </tr>\n",
       "    <tr>\n",
       "      <th>4</th>\n",
       "      <td>07-Aug-14</td>\n",
       "      <td>Central</td>\n",
       "      <td>matthew</td>\n",
       "      <td>Pen Set</td>\n",
       "      <td>42</td>\n",
       "      <td>23.95</td>\n",
       "      <td>1005.90</td>\n",
       "    </tr>\n",
       "    <tr>\n",
       "      <th>5</th>\n",
       "      <td>15-Aug-14</td>\n",
       "      <td>East</td>\n",
       "      <td>richard</td>\n",
       "      <td>Pencil</td>\n",
       "      <td>35</td>\n",
       "      <td>4.99</td>\n",
       "      <td>174.65</td>\n",
       "    </tr>\n",
       "    <tr>\n",
       "      <th>6</th>\n",
       "      <td>24-Aug-14</td>\n",
       "      <td>West</td>\n",
       "      <td>james</td>\n",
       "      <td>Desk</td>\n",
       "      <td>3</td>\n",
       "      <td>275.00</td>\n",
       "      <td>825.00</td>\n",
       "    </tr>\n",
       "    <tr>\n",
       "      <th>7</th>\n",
       "      <td>01-Sep-14</td>\n",
       "      <td>Central</td>\n",
       "      <td>smith</td>\n",
       "      <td>Desk</td>\n",
       "      <td>2</td>\n",
       "      <td>125.00</td>\n",
       "      <td>250.00</td>\n",
       "    </tr>\n",
       "    <tr>\n",
       "      <th>8</th>\n",
       "      <td>10-Sep-14</td>\n",
       "      <td>Central</td>\n",
       "      <td>bill</td>\n",
       "      <td>Pencil</td>\n",
       "      <td>7</td>\n",
       "      <td>1.29</td>\n",
       "      <td>9.03</td>\n",
       "    </tr>\n",
       "    <tr>\n",
       "      <th>9</th>\n",
       "      <td>18-Sep-14</td>\n",
       "      <td>East</td>\n",
       "      <td>richard</td>\n",
       "      <td>Pen Set</td>\n",
       "      <td>16</td>\n",
       "      <td>15.99</td>\n",
       "      <td>255.84</td>\n",
       "    </tr>\n",
       "    <tr>\n",
       "      <th>10</th>\n",
       "      <td>27-Sep-14</td>\n",
       "      <td>West</td>\n",
       "      <td>james</td>\n",
       "      <td>Pen</td>\n",
       "      <td>76</td>\n",
       "      <td>1.99</td>\n",
       "      <td>151.24</td>\n",
       "    </tr>\n",
       "    <tr>\n",
       "      <th>11</th>\n",
       "      <td>05-Oct-14</td>\n",
       "      <td>Central</td>\n",
       "      <td>morgan</td>\n",
       "      <td>Binder</td>\n",
       "      <td>28</td>\n",
       "      <td>8.99</td>\n",
       "      <td>251.72</td>\n",
       "    </tr>\n",
       "    <tr>\n",
       "      <th>12</th>\n",
       "      <td>14-Oct-14</td>\n",
       "      <td>West</td>\n",
       "      <td>thomas</td>\n",
       "      <td>Binder</td>\n",
       "      <td>57</td>\n",
       "      <td>19.99</td>\n",
       "      <td>1139.43</td>\n",
       "    </tr>\n",
       "    <tr>\n",
       "      <th>13</th>\n",
       "      <td>22-Oct-14</td>\n",
       "      <td>East</td>\n",
       "      <td>richard</td>\n",
       "      <td>Pen</td>\n",
       "      <td>64</td>\n",
       "      <td>8.99</td>\n",
       "      <td>575.36</td>\n",
       "    </tr>\n",
       "    <tr>\n",
       "      <th>14</th>\n",
       "      <td>31-Oct-14</td>\n",
       "      <td>Central</td>\n",
       "      <td>rachel</td>\n",
       "      <td>Pencil</td>\n",
       "      <td>14</td>\n",
       "      <td>1.29</td>\n",
       "      <td>18.06</td>\n",
       "    </tr>\n",
       "    <tr>\n",
       "      <th>15</th>\n",
       "      <td>08-Nov-14</td>\n",
       "      <td>East</td>\n",
       "      <td>susan</td>\n",
       "      <td>Pen</td>\n",
       "      <td>15</td>\n",
       "      <td>19.99</td>\n",
       "      <td>299.85</td>\n",
       "    </tr>\n",
       "    <tr>\n",
       "      <th>16</th>\n",
       "      <td>17-Nov-14</td>\n",
       "      <td>Central</td>\n",
       "      <td>alex</td>\n",
       "      <td>Binder</td>\n",
       "      <td>11</td>\n",
       "      <td>4.99</td>\n",
       "      <td>54.89</td>\n",
       "    </tr>\n",
       "    <tr>\n",
       "      <th>17</th>\n",
       "      <td>25-Nov-14</td>\n",
       "      <td>Central</td>\n",
       "      <td>matthew</td>\n",
       "      <td>Pen Set</td>\n",
       "      <td>96</td>\n",
       "      <td>4.99</td>\n",
       "      <td>479.04</td>\n",
       "    </tr>\n",
       "    <tr>\n",
       "      <th>18</th>\n",
       "      <td>04-Dec-14</td>\n",
       "      <td>Central</td>\n",
       "      <td>alex</td>\n",
       "      <td>Binder</td>\n",
       "      <td>94</td>\n",
       "      <td>19.99</td>\n",
       "      <td>1879.06</td>\n",
       "    </tr>\n",
       "    <tr>\n",
       "      <th>19</th>\n",
       "      <td>12-Dec-14</td>\n",
       "      <td>Central</td>\n",
       "      <td>smith</td>\n",
       "      <td>Pencil</td>\n",
       "      <td>67</td>\n",
       "      <td>1.29</td>\n",
       "      <td>86.43</td>\n",
       "    </tr>\n",
       "    <tr>\n",
       "      <th>20</th>\n",
       "      <td>21-Dec-14</td>\n",
       "      <td>Central</td>\n",
       "      <td>rachel</td>\n",
       "      <td>Binder</td>\n",
       "      <td>28</td>\n",
       "      <td>4.99</td>\n",
       "      <td>139.72</td>\n",
       "    </tr>\n",
       "    <tr>\n",
       "      <th>21</th>\n",
       "      <td>29-Dec-14</td>\n",
       "      <td>East</td>\n",
       "      <td>susan</td>\n",
       "      <td>Pen Set</td>\n",
       "      <td>74</td>\n",
       "      <td>15.99</td>\n",
       "      <td>1183.26</td>\n",
       "    </tr>\n",
       "    <tr>\n",
       "      <th>22</th>\n",
       "      <td>06-Jan-15</td>\n",
       "      <td>East</td>\n",
       "      <td>richard</td>\n",
       "      <td>Pencil</td>\n",
       "      <td>95</td>\n",
       "      <td>1.99</td>\n",
       "      <td>189.05</td>\n",
       "    </tr>\n",
       "    <tr>\n",
       "      <th>23</th>\n",
       "      <td>15-Jan-15</td>\n",
       "      <td>Central</td>\n",
       "      <td>bill</td>\n",
       "      <td>Binder</td>\n",
       "      <td>46</td>\n",
       "      <td>8.99</td>\n",
       "      <td>413.54</td>\n",
       "    </tr>\n",
       "    <tr>\n",
       "      <th>24</th>\n",
       "      <td>23-Jan-15</td>\n",
       "      <td>Central</td>\n",
       "      <td>matthew</td>\n",
       "      <td>Binder</td>\n",
       "      <td>50</td>\n",
       "      <td>19.99</td>\n",
       "      <td>999.50</td>\n",
       "    </tr>\n",
       "    <tr>\n",
       "      <th>25</th>\n",
       "      <td>01-Feb-15</td>\n",
       "      <td>Central</td>\n",
       "      <td>smith</td>\n",
       "      <td>Binder</td>\n",
       "      <td>87</td>\n",
       "      <td>15.00</td>\n",
       "      <td>1305.00</td>\n",
       "    </tr>\n",
       "    <tr>\n",
       "      <th>26</th>\n",
       "      <td>09-Feb-15</td>\n",
       "      <td>Central</td>\n",
       "      <td>alex</td>\n",
       "      <td>Pencil</td>\n",
       "      <td>36</td>\n",
       "      <td>4.99</td>\n",
       "      <td>179.64</td>\n",
       "    </tr>\n",
       "    <tr>\n",
       "      <th>27</th>\n",
       "      <td>18-Feb-15</td>\n",
       "      <td>East</td>\n",
       "      <td>richard</td>\n",
       "      <td>Binder</td>\n",
       "      <td>4</td>\n",
       "      <td>4.99</td>\n",
       "      <td>19.96</td>\n",
       "    </tr>\n",
       "    <tr>\n",
       "      <th>28</th>\n",
       "      <td>26-Feb-15</td>\n",
       "      <td>Central</td>\n",
       "      <td>bill</td>\n",
       "      <td>Pen</td>\n",
       "      <td>27</td>\n",
       "      <td>19.99</td>\n",
       "      <td>539.73</td>\n",
       "    </tr>\n",
       "    <tr>\n",
       "      <th>29</th>\n",
       "      <td>07-Mar-15</td>\n",
       "      <td>West</td>\n",
       "      <td>james</td>\n",
       "      <td>Binder</td>\n",
       "      <td>7</td>\n",
       "      <td>19.99</td>\n",
       "      <td>139.93</td>\n",
       "    </tr>\n",
       "    <tr>\n",
       "      <th>30</th>\n",
       "      <td>15-Mar-15</td>\n",
       "      <td>West</td>\n",
       "      <td>james</td>\n",
       "      <td>Pencil</td>\n",
       "      <td>56</td>\n",
       "      <td>2.99</td>\n",
       "      <td>167.44</td>\n",
       "    </tr>\n",
       "    <tr>\n",
       "      <th>31</th>\n",
       "      <td>24-Mar-15</td>\n",
       "      <td>Central</td>\n",
       "      <td>alex</td>\n",
       "      <td>Pen Set</td>\n",
       "      <td>50</td>\n",
       "      <td>4.99</td>\n",
       "      <td>249.50</td>\n",
       "    </tr>\n",
       "    <tr>\n",
       "      <th>32</th>\n",
       "      <td>01-Apr-15</td>\n",
       "      <td>East</td>\n",
       "      <td>richard</td>\n",
       "      <td>Binder</td>\n",
       "      <td>60</td>\n",
       "      <td>4.99</td>\n",
       "      <td>299.40</td>\n",
       "    </tr>\n",
       "    <tr>\n",
       "      <th>33</th>\n",
       "      <td>10-Apr-15</td>\n",
       "      <td>Central</td>\n",
       "      <td>rachel</td>\n",
       "      <td>Pencil</td>\n",
       "      <td>66</td>\n",
       "      <td>1.99</td>\n",
       "      <td>131.34</td>\n",
       "    </tr>\n",
       "    <tr>\n",
       "      <th>34</th>\n",
       "      <td>18-Apr-15</td>\n",
       "      <td>Central</td>\n",
       "      <td>rachel</td>\n",
       "      <td>Pencil</td>\n",
       "      <td>75</td>\n",
       "      <td>1.99</td>\n",
       "      <td>149.25</td>\n",
       "    </tr>\n",
       "    <tr>\n",
       "      <th>35</th>\n",
       "      <td>27-Apr-15</td>\n",
       "      <td>East</td>\n",
       "      <td>nick</td>\n",
       "      <td>Pen</td>\n",
       "      <td>96</td>\n",
       "      <td>4.99</td>\n",
       "      <td>479.04</td>\n",
       "    </tr>\n",
       "    <tr>\n",
       "      <th>36</th>\n",
       "      <td>05-May-15</td>\n",
       "      <td>Central</td>\n",
       "      <td>alex</td>\n",
       "      <td>Pencil</td>\n",
       "      <td>90</td>\n",
       "      <td>4.99</td>\n",
       "      <td>449.10</td>\n",
       "    </tr>\n",
       "    <tr>\n",
       "      <th>37</th>\n",
       "      <td>14-May-15</td>\n",
       "      <td>Central</td>\n",
       "      <td>bill</td>\n",
       "      <td>Pencil</td>\n",
       "      <td>53</td>\n",
       "      <td>1.29</td>\n",
       "      <td>68.37</td>\n",
       "    </tr>\n",
       "    <tr>\n",
       "      <th>38</th>\n",
       "      <td>22-May-15</td>\n",
       "      <td>West</td>\n",
       "      <td>thomas</td>\n",
       "      <td>Pencil</td>\n",
       "      <td>32</td>\n",
       "      <td>1.99</td>\n",
       "      <td>63.68</td>\n",
       "    </tr>\n",
       "    <tr>\n",
       "      <th>39</th>\n",
       "      <td>31-May-15</td>\n",
       "      <td>Central</td>\n",
       "      <td>bill</td>\n",
       "      <td>Binder</td>\n",
       "      <td>80</td>\n",
       "      <td>8.99</td>\n",
       "      <td>719.20</td>\n",
       "    </tr>\n",
       "    <tr>\n",
       "      <th>40</th>\n",
       "      <td>08-Jun-15</td>\n",
       "      <td>East</td>\n",
       "      <td>richard</td>\n",
       "      <td>Binder</td>\n",
       "      <td>60</td>\n",
       "      <td>8.99</td>\n",
       "      <td>539.40</td>\n",
       "    </tr>\n",
       "    <tr>\n",
       "      <th>41</th>\n",
       "      <td>17-Jun-15</td>\n",
       "      <td>Central</td>\n",
       "      <td>matthew</td>\n",
       "      <td>Desk</td>\n",
       "      <td>5</td>\n",
       "      <td>125.00</td>\n",
       "      <td>625.00</td>\n",
       "    </tr>\n",
       "    <tr>\n",
       "      <th>42</th>\n",
       "      <td>25-Jun-15</td>\n",
       "      <td>Central</td>\n",
       "      <td>morgan</td>\n",
       "      <td>Pencil</td>\n",
       "      <td>90</td>\n",
       "      <td>4.99</td>\n",
       "      <td>449.10</td>\n",
       "    </tr>\n",
       "  </tbody>\n",
       "</table>\n",
       "</div>"
      ],
      "text/plain": [
       "    OrderDate   Region      Rep     Item  Units  Unit Price  Total Price\n",
       "0   04-Jul-14     East  richard  Pen Set     62        4.99       309.38\n",
       "1   12-Jul-14     East     nick   Binder     29        1.99        57.71\n",
       "2   21-Jul-14  Central   morgan  Pen Set     55       12.49       686.95\n",
       "3   29-Jul-14     East    susan   Binder     81       19.99      1619.19\n",
       "4   07-Aug-14  Central  matthew  Pen Set     42       23.95      1005.90\n",
       "5   15-Aug-14     East  richard   Pencil     35        4.99       174.65\n",
       "6   24-Aug-14     West    james     Desk      3      275.00       825.00\n",
       "7   01-Sep-14  Central    smith     Desk      2      125.00       250.00\n",
       "8   10-Sep-14  Central     bill   Pencil      7        1.29         9.03\n",
       "9   18-Sep-14     East  richard  Pen Set     16       15.99       255.84\n",
       "10  27-Sep-14     West    james      Pen     76        1.99       151.24\n",
       "11  05-Oct-14  Central   morgan   Binder     28        8.99       251.72\n",
       "12  14-Oct-14     West   thomas   Binder     57       19.99      1139.43\n",
       "13  22-Oct-14     East  richard      Pen     64        8.99       575.36\n",
       "14  31-Oct-14  Central   rachel   Pencil     14        1.29        18.06\n",
       "15  08-Nov-14     East    susan      Pen     15       19.99       299.85\n",
       "16  17-Nov-14  Central     alex   Binder     11        4.99        54.89\n",
       "17  25-Nov-14  Central  matthew  Pen Set     96        4.99       479.04\n",
       "18  04-Dec-14  Central     alex   Binder     94       19.99      1879.06\n",
       "19  12-Dec-14  Central    smith   Pencil     67        1.29        86.43\n",
       "20  21-Dec-14  Central   rachel   Binder     28        4.99       139.72\n",
       "21  29-Dec-14     East    susan  Pen Set     74       15.99      1183.26\n",
       "22  06-Jan-15     East  richard   Pencil     95        1.99       189.05\n",
       "23  15-Jan-15  Central     bill   Binder     46        8.99       413.54\n",
       "24  23-Jan-15  Central  matthew   Binder     50       19.99       999.50\n",
       "25  01-Feb-15  Central    smith   Binder     87       15.00      1305.00\n",
       "26  09-Feb-15  Central     alex   Pencil     36        4.99       179.64\n",
       "27  18-Feb-15     East  richard   Binder      4        4.99        19.96\n",
       "28  26-Feb-15  Central     bill      Pen     27       19.99       539.73\n",
       "29  07-Mar-15     West    james   Binder      7       19.99       139.93\n",
       "30  15-Mar-15     West    james   Pencil     56        2.99       167.44\n",
       "31  24-Mar-15  Central     alex  Pen Set     50        4.99       249.50\n",
       "32  01-Apr-15     East  richard   Binder     60        4.99       299.40\n",
       "33  10-Apr-15  Central   rachel   Pencil     66        1.99       131.34\n",
       "34  18-Apr-15  Central   rachel   Pencil     75        1.99       149.25\n",
       "35  27-Apr-15     East     nick      Pen     96        4.99       479.04\n",
       "36  05-May-15  Central     alex   Pencil     90        4.99       449.10\n",
       "37  14-May-15  Central     bill   Pencil     53        1.29        68.37\n",
       "38  22-May-15     West   thomas   Pencil     32        1.99        63.68\n",
       "39  31-May-15  Central     bill   Binder     80        8.99       719.20\n",
       "40  08-Jun-15     East  richard   Binder     60        8.99       539.40\n",
       "41  17-Jun-15  Central  matthew     Desk      5      125.00       625.00\n",
       "42  25-Jun-15  Central   morgan   Pencil     90        4.99       449.10"
      ]
     },
     "execution_count": 153,
     "metadata": {},
     "output_type": "execute_result"
    }
   ],
   "source": [
    "data"
   ]
  }
 ],
 "metadata": {
  "kernelspec": {
   "display_name": "Python 3",
   "language": "python",
   "name": "python3"
  },
  "language_info": {
   "codemirror_mode": {
    "name": "ipython",
    "version": 3
   },
   "file_extension": ".py",
   "mimetype": "text/x-python",
   "name": "python",
   "nbconvert_exporter": "python",
   "pygments_lexer": "ipython3",
   "version": "3.7.1"
  }
 },
 "nbformat": 4,
 "nbformat_minor": 2
}
